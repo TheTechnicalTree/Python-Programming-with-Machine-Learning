{
 "cells": [
  {
   "cell_type": "markdown",
   "id": "fafadf33",
   "metadata": {},
   "source": [
    "### 1)\tWrite a program to count the sub_string from main string\n",
    "Example:- A B C D C D C\n",
    "Sub_string= C D C \n",
    "result =2"
   ]
  },
  {
   "cell_type": "code",
   "execution_count": 1,
   "id": "d5ab83ce",
   "metadata": {},
   "outputs": [
    {
     "name": "stdout",
     "output_type": "stream",
     "text": [
      "Enter the main StringABCDCDC\n",
      "Enter the substringCDC\n",
      "Count of 'CDC' in 'ABCDCDC': 2\n"
     ]
    }
   ],
   "source": [
    "\n",
    "def count_Substring(main_string, sub_string):\n",
    "    count = 0\n",
    "    start = 0\n",
    "\n",
    "    while True:\n",
    "        start = main_string.find(sub_string, start)\n",
    "        if start == -1:\n",
    "            break\n",
    "        count += 1\n",
    "        start += 1  \n",
    "\n",
    "    return count\n",
    "\n",
    "def main():\n",
    "    main_string = input(\"Enter the main String\")\n",
    "    sub_string = input(\"Enter the substring\")\n",
    "    result = count_Substring(main_string, sub_string)\n",
    "    print(f\"Count of '{sub_string}' in '{main_string}':\", result)\n",
    "\n",
    "if __name__ == \"__main__\":\n",
    "    main()\n"
   ]
  },
  {
   "cell_type": "markdown",
   "id": "32e74058",
   "metadata": {},
   "source": [
    "# 2)\tWrite a program to take 4 number and store in list \n",
    "[2,4,6,8] find the factorial of the each number of the list and store the value  in the list \n"
   ]
  },
  {
   "cell_type": "code",
   "execution_count": 2,
   "id": "a3ba6833",
   "metadata": {},
   "outputs": [
    {
     "name": "stdout",
     "output_type": "stream",
     "text": [
      "Enter the number of elements in the list: 4\n",
      "Enter number 1: 2\n",
      "Enter number 2: 3\n",
      "Enter number 3: 4\n",
      "Enter number 4: 5\n",
      "Factorials of [2, 3, 4, 5]: [2, 6, 24, 120]\n"
     ]
    }
   ],
   "source": [
    "import math\n",
    "\n",
    "def factorial_of_list(num_list):\n",
    "    return [math.factorial(num) for num in num_list]\n",
    "\n",
    "def main():\n",
    "    num_list = []\n",
    "    n = int(input(\"Enter the number of elements in the list: \"))\n",
    "    for i in range(n):\n",
    "        num = int(input(f\"Enter number {i+1}: \"))\n",
    "        num_list.append(num)\n",
    "\n",
    "    factorials = factorial_of_list(num_list)\n",
    "    print(f\"Factorials of {num_list}: {factorials}\")\n",
    "\n",
    "if __name__ == \"__main__\":\n",
    "    main()"
   ]
  },
  {
   "cell_type": "markdown",
   "id": "f4252220",
   "metadata": {},
   "source": [
    "# 3)\tCreate a strong password combining words, numbers and characters. \n",
    "(* )Keep creating the new password until you find one you like  \n"
   ]
  },
  {
   "cell_type": "code",
   "execution_count": 6,
   "id": "ffbb8cdd",
   "metadata": {},
   "outputs": [
    {
     "name": "stdout",
     "output_type": "stream",
     "text": [
      "Generated Password: '`h<f+DLl}pL\n",
      "Do you like this password? (y/n): n\n",
      "Generated Password: gW&EY1R1&k*O\n",
      "Do you like this password? (y/n): n\n",
      "Generated Password: [g{_Ml.#>C-=\n",
      "Do you like this password? (y/n): n\n",
      "Generated Password: |@>?)<%4oD$O\n",
      "Do you like this password? (y/n): y\n"
     ]
    }
   ],
   "source": [
    "import random\n",
    "import string\n",
    "\n",
    "def generate_password():\n",
    "    characters = string.ascii_letters + string.digits + string.punctuation\n",
    "    password = ''.join(random.choice(characters) for i in range(12))\n",
    "    return password\n",
    "\n",
    "while True:\n",
    "    password = generate_password()\n",
    "    print(\"Generated Password:\", password)\n",
    "    if input(\"Do you like this password? (y/n): \").lower() == 'y':\n",
    "        break"
   ]
  },
  {
   "cell_type": "markdown",
   "id": "b4de8c07",
   "metadata": {},
   "source": [
    "# 4) Checking of the vowels inside the string"
   ]
  },
  {
   "cell_type": "code",
   "execution_count": 8,
   "id": "858d5e33",
   "metadata": {},
   "outputs": [
    {
     "name": "stdout",
     "output_type": "stream",
     "text": [
      "Enter a string: Anirban Samanta\n",
      "Vowels in the string: ['A', 'i', 'a', 'a', 'a', 'a']\n"
     ]
    }
   ],
   "source": [
    "string = input(\"Enter a string: \")\n",
    "vowels = set('aeiouAEIOU')\n",
    "found_vowels = [char for char in string if char in vowels]\n",
    "print(\"Vowels in the string:\",found_vowels)"
   ]
  },
  {
   "cell_type": "markdown",
   "id": "5ba2c620",
   "metadata": {},
   "source": [
    "# 5)\tA python program to access each element of a string in forward and reverse orders using while loop "
   ]
  },
  {
   "cell_type": "code",
   "execution_count": 12,
   "id": "11aa9f24",
   "metadata": {},
   "outputs": [
    {
     "name": "stdout",
     "output_type": "stream",
     "text": [
      "Forward order: Hello World\n",
      "Reverse order: dlroW olleH\n"
     ]
    }
   ],
   "source": [
    "class StringOperations:\n",
    "    def forward_reverse_access(self, input_string):\n",
    "        forward = []\n",
    "        reverse = []\n",
    "        \n",
    "        i = 0\n",
    "        while i < len(input_string):\n",
    "            forward.append(input_string[i])\n",
    "            i += 1\n",
    "        \n",
    "        i = len(input_string) - 1\n",
    "        while i >= 0:\n",
    "            reverse.append(input_string[i])\n",
    "            i -= 1\n",
    "        \n",
    "        return forward, reverse\n",
    "\n",
    "def main():\n",
    "    s = StringOperations()\n",
    "    input_string = \"Hello World\"\n",
    "    forward, reverse = s.forward_reverse_access(input_string=input_string)\n",
    "    print(f\"Forward order: {''.join(forward)}\")\n",
    "    print(f\"Reverse order: {''.join(reverse)}\")\n",
    "\n",
    "if __name__ == \"__main__\":\n",
    "    main()\n"
   ]
  },
  {
   "cell_type": "markdown",
   "id": "3956cf63",
   "metadata": {},
   "source": [
    "# 6)\tWrite a python program to know whether a sub- string exists in main string "
   ]
  },
  {
   "cell_type": "code",
   "execution_count": 15,
   "id": "59a9658a",
   "metadata": {},
   "outputs": [
    {
     "name": "stdout",
     "output_type": "stream",
     "text": [
      "Enter the main StringABCDC\n",
      "Enter the substringABA\n",
      "'ABA' does not present in 'ABCDC' \n"
     ]
    }
   ],
   "source": [
    "def count_Substring(main_string, sub_string):\n",
    "    return main_string.count(sub_string)\n",
    "\n",
    "def main():\n",
    "    main_string = input(\"Enter the main String\")\n",
    "    sub_string = input(\"Enter the substring\")\n",
    "    result = count_Substring(main_string, sub_string)\n",
    "    if result>=1:\n",
    "        print(f\"'{sub_string}' present in '{main_string}' \")\n",
    "    else:\n",
    "        print(f\"'{sub_string}' does not present in '{main_string}' \")\n",
    "    \n",
    "if __name__ == \"__main__\":\n",
    "    main()"
   ]
  },
  {
   "cell_type": "markdown",
   "id": "fdc8fe55",
   "metadata": {},
   "source": [
    "# 7)\tA python program to find the first occurrences of sub string in a given main string  "
   ]
  },
  {
   "cell_type": "code",
   "execution_count": 20,
   "id": "3ec8815b",
   "metadata": {},
   "outputs": [
    {
     "name": "stdout",
     "output_type": "stream",
     "text": [
      "Enter the main String: I am Anirban Samanta\n",
      "Enter the substring: Anirban\n",
      "First occurrence of 'Anirban' in 'I am Anirban Samanta': 6\n"
     ]
    }
   ],
   "source": [
    "def first_occurrence(main_string, sub_string):\n",
    "        return main_string.find(sub_string)\n",
    "\n",
    "def main():\n",
    "    main_string = input(\"Enter the main String: \")\n",
    "    sub_string = input(\"Enter the substring: \")\n",
    "    first_occurrence_num =first_occurrence(main_string, sub_string)\n",
    "    print(f\"First occurrence of '{sub_string}' in '{main_string}':\", first_occurrence_num+1)\n",
    "\n",
    "if __name__ == \"__main__\":\n",
    "    main()\n"
   ]
  },
  {
   "cell_type": "markdown",
   "id": "fb585471",
   "metadata": {},
   "source": [
    "# 8)\tA python program to insert a sub string in main string in a particular position\n",
    "\n",
    "Example:- enter a string :- it is summer\n",
    "Enter sub_string;- hot\n",
    "Enter position no:- 7\n",
    "Result :- It is hotsummer re\n"
   ]
  },
  {
   "cell_type": "code",
   "execution_count": 22,
   "id": "be809039",
   "metadata": {},
   "outputs": [
    {
     "name": "stdout",
     "output_type": "stream",
     "text": [
      "Enter the main string: I am Anirban \n",
      "Enter the substring: Samanta\n",
      "Enter the position to insert the substring: 13\n",
      "Resulting string: I am Anirban Samanta\n"
     ]
    }
   ],
   "source": [
    "main_str = input(\"Enter the main string: \")\n",
    "sub_str = input(\"Enter the substring: \")\n",
    "position = int(input(\"Enter the position to insert the substring: \"))\n",
    "\n",
    "result = main_str[:position] + sub_str + main_str[position:]\n",
    "print(\"Resulting string:\",result)"
   ]
  },
  {
   "cell_type": "markdown",
   "id": "2d2754f5",
   "metadata": {},
   "source": [
    "# Generate an infinite fibonacci series by using generator yeild"
   ]
  },
  {
   "cell_type": "code",
   "execution_count": 32,
   "id": "e80d0e6a",
   "metadata": {},
   "outputs": [
    {
     "name": "stdout",
     "output_type": "stream",
     "text": [
      "First 10 Fibonacci numbers:\n",
      "0\n",
      "1\n",
      "1\n",
      "2\n",
      "3\n",
      "5\n",
      "8\n",
      "13\n",
      "21\n",
      "34\n",
      "\n",
      "Next 10 Fibonacci numbers:\n",
      "55\n",
      "89\n",
      "144\n",
      "233\n",
      "377\n",
      "610\n",
      "987\n",
      "1597\n",
      "2584\n",
      "4181\n"
     ]
    }
   ],
   "source": [
    "def infinite_fibonacci():\n",
    "    a, b = 0, 1\n",
    "    while True:\n",
    "        yield a\n",
    "        a, b = b, a + b\n",
    "\n",
    "def main():\n",
    "    fibonacci_generator = infinite_fibonacci()\n",
    "\n",
    "    print(\"First 10 Fibonacci numbers:\")\n",
    "    for _ in range(10):\n",
    "        print(next(fibonacci_generator))\n",
    "\n",
    "    print(\"\\nNext 10 Fibonacci numbers:\")\n",
    "    for _ in range(10):\n",
    "        print(next(fibonacci_generator))\n",
    "\n",
    "if __name__ == \"__main__\":\n",
    "    main()\n"
   ]
  },
  {
   "cell_type": "code",
   "execution_count": null,
   "id": "6d0a2467",
   "metadata": {},
   "outputs": [],
   "source": []
  },
  {
   "cell_type": "code",
   "execution_count": null,
   "id": "28ab346b",
   "metadata": {},
   "outputs": [],
   "source": []
  },
  {
   "cell_type": "code",
   "execution_count": null,
   "id": "13224834",
   "metadata": {},
   "outputs": [],
   "source": []
  },
  {
   "cell_type": "code",
   "execution_count": null,
   "id": "bcb54947",
   "metadata": {},
   "outputs": [],
   "source": []
  }
 ],
 "metadata": {
  "kernelspec": {
   "display_name": "Python 3 (ipykernel)",
   "language": "python",
   "name": "python3"
  },
  "language_info": {
   "codemirror_mode": {
    "name": "ipython",
    "version": 3
   },
   "file_extension": ".py",
   "mimetype": "text/x-python",
   "name": "python",
   "nbconvert_exporter": "python",
   "pygments_lexer": "ipython3",
   "version": "3.9.13"
  }
 },
 "nbformat": 4,
 "nbformat_minor": 5
}
