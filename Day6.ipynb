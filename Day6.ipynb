{
 "cells": [
  {
   "cell_type": "markdown",
   "id": "39ec8ec4",
   "metadata": {},
   "source": [
    "# Day 6"
   ]
  },
  {
   "cell_type": "markdown",
   "id": "68aa7bc1",
   "metadata": {},
   "source": [
    "### OOPs"
   ]
  },
  {
   "cell_type": "code",
   "execution_count": 6,
   "id": "37692a16",
   "metadata": {},
   "outputs": [
    {
     "name": "stdout",
     "output_type": "stream",
     "text": [
      "2\n"
     ]
    }
   ],
   "source": [
    "def fun1(a):\n",
    "    count=0\n",
    "    for char in a:\n",
    "        if((ord(char))>=97 and (ord(char))<=122):\n",
    "            continue\n",
    "        else:\n",
    "            count=count+1\n",
    "    return count\n",
    "            \n",
    "b=fun1(\"rah23ul\")\n",
    "print(b)"
   ]
  },
  {
   "cell_type": "code",
   "execution_count": 10,
   "id": "9406a3b8",
   "metadata": {},
   "outputs": [
    {
     "name": "stdout",
     "output_type": "stream",
     "text": [
      "Enter the rating point: 77\n",
      "Excellent\n"
     ]
    }
   ],
   "source": [
    "rating = int(input(\"Enter the rating point: \"))\n",
    "\n",
    "if rating >= 81 and rating <= 100:\n",
    "    print(\"Outstanding\")\n",
    "elif rating >= 61 and rating <= 80:\n",
    "    print(\"Excellent\")\n",
    "elif rating >= 51 and rating <= 60:\n",
    "    print(\"Good\")\n",
    "elif rating >= 30 and rating <= 50:\n",
    "    print(\"Average\")\n",
    "else:\n",
    "    print(\"Worst\")"
   ]
  },
  {
   "cell_type": "code",
   "execution_count": 12,
   "id": "86f0f0a9",
   "metadata": {},
   "outputs": [
    {
     "name": "stdout",
     "output_type": "stream",
     "text": [
      "Enter the number: 5644456\n",
      "Enter the number to be not count: 5\n",
      "The count of the number excluding the given number is: 5\n"
     ]
    }
   ],
   "source": [
    "def count(num, n):\n",
    "    temp = 0\n",
    "    while num > 0:\n",
    "        a = num % 10\n",
    "        if a != n:\n",
    "            temp += 1\n",
    "        num = num // 10\n",
    "    return temp\n",
    "\n",
    "if __name__ == \"__main__\":\n",
    "    num = int(input(\"Enter the number: \"))\n",
    "    n = int(input(\"Enter the number to be not count: \"))\n",
    "    print(\"The count of the number excluding the given number is:\", count(num, n))"
   ]
  },
  {
   "cell_type": "code",
   "execution_count": 13,
   "id": "4f4343a8",
   "metadata": {},
   "outputs": [
    {
     "name": "stdout",
     "output_type": "stream",
     "text": [
      "Answer String is: BOWandARROW\n"
     ]
    }
   ],
   "source": [
    "def count(s):\n",
    "    result = []\n",
    "    for char in s:\n",
    "        if ord(char) >= 97 and ord(char) <= 122:  \n",
    "            result.append(char.upper())\n",
    "        else:\n",
    "            result.append(char.lower())\n",
    "    return ''.join(result)\n",
    "\n",
    "if __name__ == \"__main__\":\n",
    "    s = \"bowANDarrow\"\n",
    "    print(\"Answer String is:\", count(s))\n"
   ]
  },
  {
   "cell_type": "code",
   "execution_count": null,
   "id": "74c42052",
   "metadata": {},
   "outputs": [],
   "source": []
  }
 ],
 "metadata": {
  "kernelspec": {
   "display_name": "Python 3 (ipykernel)",
   "language": "python",
   "name": "python3"
  },
  "language_info": {
   "codemirror_mode": {
    "name": "ipython",
    "version": 3
   },
   "file_extension": ".py",
   "mimetype": "text/x-python",
   "name": "python",
   "nbconvert_exporter": "python",
   "pygments_lexer": "ipython3",
   "version": "3.9.13"
  }
 },
 "nbformat": 4,
 "nbformat_minor": 5
}
