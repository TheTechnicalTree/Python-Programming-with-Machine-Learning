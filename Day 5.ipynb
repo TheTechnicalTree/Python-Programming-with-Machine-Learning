{
 "cells": [
  {
   "cell_type": "markdown",
   "id": "0974a80c",
   "metadata": {},
   "source": [
    "# Day 5"
   ]
  },
  {
   "cell_type": "code",
   "execution_count": 1,
   "id": "36e4efaa",
   "metadata": {},
   "outputs": [
    {
     "name": "stdout",
     "output_type": "stream",
     "text": [
      "<class 'list'>\n",
      "[1, 3, 5, 7, 9]\n"
     ]
    }
   ],
   "source": [
    "#creating of the list using range\n",
    "li=list(range(1,10,2))\n",
    "print(type(li))\n",
    "print(li)"
   ]
  },
  {
   "cell_type": "markdown",
   "id": "de15453d",
   "metadata": {},
   "source": [
    "# List indexing and spliting"
   ]
  },
  {
   "cell_type": "code",
   "execution_count": 2,
   "id": "0a28926b",
   "metadata": {},
   "outputs": [
    {
     "name": "stdout",
     "output_type": "stream",
     "text": [
      "1\n",
      "3\n",
      "5\n",
      "7\n",
      "9\n"
     ]
    }
   ],
   "source": [
    "print(li[0])\n",
    "print(li[1])\n",
    "print(li[2])\n",
    "print(li[3])\n",
    "print(li[4])"
   ]
  },
  {
   "cell_type": "code",
   "execution_count": 4,
   "id": "cd1a9b86",
   "metadata": {},
   "outputs": [
    {
     "name": "stdout",
     "output_type": "stream",
     "text": [
      "[3, 5, 7]\n",
      "[2, 3, 4, 5, 6, 7, 8]\n",
      "[10, 9, 8, 7, 6, 5, 4, 3, 2, 1]\n"
     ]
    }
   ],
   "source": [
    "lis=[1,2,3,4,5,6,7,8,9,10]\n",
    "#printing the value of the list using step\n",
    "print(lis[2:8:2])\n",
    "#print the element of the list from range 2 to 8\n",
    "print(lis[1:8])\n",
    "#reversing the list\n",
    "print(lis[::-1])"
   ]
  },
  {
   "cell_type": "markdown",
   "id": "8cc09e83",
   "metadata": {},
   "source": [
    "# Method of Lists"
   ]
  },
  {
   "cell_type": "code",
   "execution_count": 6,
   "id": "471f3edb",
   "metadata": {},
   "outputs": [
    {
     "name": "stdout",
     "output_type": "stream",
     "text": [
      "[1, 2, 3, 10]\n"
     ]
    }
   ],
   "source": [
    "l1=[1,2,3]\n",
    "l1.append(10)\n",
    "print(l1)"
   ]
  },
  {
   "cell_type": "code",
   "execution_count": 7,
   "id": "b8c1b0f0",
   "metadata": {},
   "outputs": [
    {
     "name": "stdout",
     "output_type": "stream",
     "text": [
      "[1, 2, 3, 10]\n"
     ]
    }
   ],
   "source": [
    "l2=l1.copy()\n",
    "print(l2)"
   ]
  },
  {
   "cell_type": "code",
   "execution_count": 9,
   "id": "7b71204b",
   "metadata": {},
   "outputs": [
    {
     "name": "stdout",
     "output_type": "stream",
     "text": [
      "[1, 2, 3, 10, 1, 2, 3, 10]\n"
     ]
    }
   ],
   "source": [
    "l2.extend(l1)#adding the whole list at the end of the list to be extended\n",
    "print(l2)"
   ]
  },
  {
   "cell_type": "code",
   "execution_count": 10,
   "id": "24f14867",
   "metadata": {},
   "outputs": [
    {
     "name": "stdout",
     "output_type": "stream",
     "text": [
      "[1, 2, 200, 3, 10, 1, 2, 3, 10]\n"
     ]
    }
   ],
   "source": [
    "l2.insert(2,200)\n",
    "print(l2)"
   ]
  },
  {
   "cell_type": "code",
   "execution_count": 11,
   "id": "ec1fbb19",
   "metadata": {},
   "outputs": [
    {
     "name": "stdout",
     "output_type": "stream",
     "text": [
      "[1, 2, 3, 4, 5, 6, 7, 8, 9, 10]\n"
     ]
    }
   ],
   "source": [
    "l3=[10,9,8,7,6,5,4,3,2,1]\n",
    "l3.sort()\n",
    "print(l3)"
   ]
  },
  {
   "cell_type": "markdown",
   "id": "1381bf9c",
   "metadata": {},
   "source": [
    "### Checking of the length, min and max"
   ]
  },
  {
   "cell_type": "code",
   "execution_count": 12,
   "id": "2e80256c",
   "metadata": {},
   "outputs": [
    {
     "name": "stdout",
     "output_type": "stream",
     "text": [
      "The length of the list l3 is:  10\n"
     ]
    }
   ],
   "source": [
    "print(\"The length of the list l3 is: \",len(l3))"
   ]
  },
  {
   "cell_type": "code",
   "execution_count": 14,
   "id": "c0e26d6e",
   "metadata": {},
   "outputs": [
    {
     "name": "stdout",
     "output_type": "stream",
     "text": [
      "The minimum value of the list l3 is:  1\n"
     ]
    }
   ],
   "source": [
    "print(\"The minimum value of the list l3 is: \",min(l3))"
   ]
  },
  {
   "cell_type": "code",
   "execution_count": 15,
   "id": "edeeae1a",
   "metadata": {},
   "outputs": [
    {
     "name": "stdout",
     "output_type": "stream",
     "text": [
      "The maximum value of the list l3 is:  10\n"
     ]
    }
   ],
   "source": [
    "print(\"The maximum value of the list l3 is: \",max(l3))"
   ]
  },
  {
   "cell_type": "markdown",
   "id": "19bce4e8",
   "metadata": {},
   "source": [
    "### User input in the list"
   ]
  },
  {
   "cell_type": "code",
   "execution_count": 20,
   "id": "aaabea3f",
   "metadata": {},
   "outputs": [
    {
     "name": "stdout",
     "output_type": "stream",
     "text": [
      "Enter the length of the list: 5\n",
      "Enter the 1th element to be entered: 1\n",
      "Enter the 2th element to be entered: 2\n",
      "Enter the 3th element to be entered: 3\n",
      "Enter the 4th element to be entered: 4\n",
      "Enter the 5th element to be entered: 5\n",
      "The minimum element of the list is:  1\n",
      "The maximum element of the list is:  5\n",
      "The second minimum of the list is:  2\n",
      "The second maximum of the list is:  4\n"
     ]
    }
   ],
   "source": [
    "li=[]\n",
    "n=int(input(\"Enter the length of the list: \"))\n",
    "for i in range(0,n):\n",
    "    li.append(int(input(\"Enter the {0}th element to be entered: \".format(i+1))))\n",
    "li.sort()\n",
    "print(\"The minimum element of the list is: \",min(li))\n",
    "print(\"The maximum element of the list is: \",max(li))\n",
    "print(\"The second minimum element of the list is: \",li[1])\n",
    "print(\"The second maximum element of the list is: \",li[len(li)-2])"
   ]
  },
  {
   "cell_type": "markdown",
   "id": "5f9a0995",
   "metadata": {},
   "source": [
    "n=int(input(\"Enter the length of the list: \"))"
   ]
  },
  {
   "cell_type": "code",
   "execution_count": 4,
   "id": "a0bd1992",
   "metadata": {},
   "outputs": [
    {
     "name": "stdout",
     "output_type": "stream",
     "text": [
      "Enter the length of the list: 5\n",
      "Enter the 5 element using space4 5 6 8 2 5 8\n",
      "[4, 5, 6, 8, 2]\n"
     ]
    }
   ],
   "source": [
    "n=int(input(\"Enter the length of the list: \"))\n",
    "a=list(map(int,input(\"Enter the {0} element using space\".format(n)).strip().split()))[:n]\n",
    "print(a)"
   ]
  },
  {
   "cell_type": "markdown",
   "id": "1058275d",
   "metadata": {},
   "source": [
    "### List comprehension"
   ]
  },
  {
   "cell_type": "code",
   "execution_count": 5,
   "id": "ef49302b",
   "metadata": {},
   "outputs": [
    {
     "name": "stdout",
     "output_type": "stream",
     "text": [
      "{0, 2, 4, 6, 8, 10, 12, 14, 16, 18, 20, 22, 24, 26, 28, 30, 32, 34, 36, 38, 40, 42, 44, 46, 48}\n"
     ]
    }
   ],
   "source": [
    "even_list={i for i in range(50) if i%2==0}\n",
    "print(even_list)"
   ]
  },
  {
   "cell_type": "code",
   "execution_count": 7,
   "id": "18a8da8d",
   "metadata": {},
   "outputs": [
    {
     "name": "stdout",
     "output_type": "stream",
     "text": [
      "{1, 3, 5, 7, 9, 11, 13, 15, 17, 19, 21, 23, 25, 27, 29, 31, 33, 35, 37, 39, 41, 43, 45, 47, 49}\n"
     ]
    }
   ],
   "source": [
    "even_list={i for i in range(50) if i%2!=0}\n",
    "print(even_list)"
   ]
  },
  {
   "cell_type": "code",
   "execution_count": 8,
   "id": "4e86aa7a",
   "metadata": {},
   "outputs": [
    {
     "data": {
      "text/plain": [
       "3"
      ]
     },
     "execution_count": 8,
     "metadata": {},
     "output_type": "execute_result"
    }
   ],
   "source": [
    "#\n",
    "li=[3,3,4,5,6,5,4,3]\n",
    "li.count(3)"
   ]
  },
  {
   "cell_type": "code",
   "execution_count": 9,
   "id": "0eb5362f",
   "metadata": {},
   "outputs": [
    {
     "name": "stdout",
     "output_type": "stream",
     "text": [
      "[]\n"
     ]
    }
   ],
   "source": [
    "li.clear()\n",
    "print(li)"
   ]
  },
  {
   "cell_type": "code",
   "execution_count": 11,
   "id": "cb08319e",
   "metadata": {},
   "outputs": [
    {
     "name": "stdout",
     "output_type": "stream",
     "text": [
      "Enter the number os days: 10\n",
      "Second present in the days is:  864000\n"
     ]
    }
   ],
   "source": [
    "def second_Count(n):\n",
    "    print(\"Second present in the days is: \",n*24*60*60)\n",
    "n=int(input(\"Enter the number os days: \"))\n",
    "second_Count(n)"
   ]
  },
  {
   "cell_type": "code",
   "execution_count": 12,
   "id": "e55087d0",
   "metadata": {},
   "outputs": [
    {
     "name": "stdout",
     "output_type": "stream",
     "text": [
      "    August 2024\n",
      "Mo Tu We Th Fr Sa Su\n",
      "          1  2  3  4\n",
      " 5  6  7  8  9 10 11\n",
      "12 13 14 15 16 17 18\n",
      "19 20 21 22 23 24 25\n",
      "26 27 28 29 30 31\n",
      "\n"
     ]
    }
   ],
   "source": [
    "import calendar\n",
    "year=2024\n",
    "month=8\n",
    "print(calendar.month(year,month))"
   ]
  },
  {
   "cell_type": "code",
   "execution_count": 13,
   "id": "1a4f1f1e",
   "metadata": {},
   "outputs": [
    {
     "name": "stdout",
     "output_type": "stream",
     "text": [
      "2024-08-17 15:17:24.682069\n"
     ]
    }
   ],
   "source": [
    "import datetime\n",
    "e=datetime.datetime.now()\n",
    "print(e)"
   ]
  },
  {
   "cell_type": "code",
   "execution_count": null,
   "id": "275e11aa",
   "metadata": {},
   "outputs": [],
   "source": []
  }
 ],
 "metadata": {
  "kernelspec": {
   "display_name": "Python 3 (ipykernel)",
   "language": "python",
   "name": "python3"
  },
  "language_info": {
   "codemirror_mode": {
    "name": "ipython",
    "version": 3
   },
   "file_extension": ".py",
   "mimetype": "text/x-python",
   "name": "python",
   "nbconvert_exporter": "python",
   "pygments_lexer": "ipython3",
   "version": "3.9.13"
  }
 },
 "nbformat": 4,
 "nbformat_minor": 5
}
